{
 "cells": [
  {
   "cell_type": "markdown",
   "metadata": {},
   "source": [
    "# This part of the code will load the python library and will define some functions"
   ]
  },
  {
   "cell_type": "code",
   "execution_count": 2,
   "metadata": {},
   "outputs": [],
   "source": [
    "#import matplotlib.image as mpimg\n",
    "import os\n",
    "import time\n",
    "import rasterio\n",
    "from rasterio.plot import show\n",
    "from matplotlib import pyplot as plt\n",
    "from rasterio import plot\n",
    "import numpy as np\n",
    "import pandas as pd\n",
    "from sklearn import neighbors\n",
    "from scipy import interpolate\n",
    "from scipy import stats\n",
    "\n",
    "\n",
    "\n",
    "# Defining functions for inside nodata interpolation\n",
    "\n",
    "def knninter():\n",
    "    n_neighbors = 50\n",
    "    weights = 'distance'\n",
    "    knn = neighbors.KNeighborsRegressor(n_neighbors, weights=weights)\n",
    "    #knn = neighbors.NearestNeighbors(n_neighbors=n_neighbors)\n",
    "    ri,ci = np.indices(np.shape(z_mask))\n",
    "    tr_x = ci[(zi!=nodata_outside) & (zi!=nodata_inside)].flat[:]\n",
    "    tr_y = ri[(zi!=nodata_outside) & (zi!=nodata_inside)].flat[:]\n",
    "    tr_z = zi[(zi!=nodata_outside) & (zi!=nodata_inside)].flat[:]\n",
    "    cord = np.array(list(zip(tr_x,tr_y)))\n",
    "    y_ = knn.fit(cord, tr_z)\n",
    "    \n",
    "    pr_x = ci[(z_mask==m_study) & (zi==nodata_inside)].flat[:]\n",
    "    pr_y = ri[(z_mask==m_study) &(zi==nodata_inside)].flat[:]\n",
    "    pr_crd = np.array(list(zip(pr_x,pr_y)))\n",
    "    pr_z = y_.predict(pr_crd)\n",
    "    zi[pr_y, pr_x]=pr_z\n",
    "    return zi\n",
    "\n",
    "def meaninter():\n",
    "\n",
    "    ri,ci = np.indices(np.shape(z_mask))\n",
    "    \n",
    "    tr_z = zi[(zi!=nodata_outside) & (zi!=nodata_inside)].flat[:]\n",
    "    \n",
    "    pr_x = ci[(z_mask==m_study) & (zi==nodata_inside)].flat[:]\n",
    "    pr_y = ri[(z_mask==m_study) &(zi==nodata_inside)].flat[:]\n",
    "    \n",
    "    pr_z = np.mean(tr_z)\n",
    "    zi[pr_y, pr_x]=pr_z\n",
    "    return zi\n",
    "\n",
    "def medianinter():\n",
    "\n",
    "    ri,ci = np.indices(np.shape(z_mask))\n",
    "    \n",
    "    tr_z = zi[(zi!=nodata_outside) & (zi!=nodata_inside)].flat[:]\n",
    "    \n",
    "    pr_x = ci[(z_mask==m_study) & (zi==nodata_inside)].flat[:]\n",
    "    pr_y = ri[(z_mask==m_study) &(zi==nodata_inside)].flat[:]\n",
    "    \n",
    "    pr_z = np.median(tr_z)\n",
    "    zi[pr_y, pr_x]=pr_z\n",
    "    return zi\n",
    "\n",
    "def modeinter():\n",
    "\n",
    "    ri,ci = np.indices(np.shape(z_mask))\n",
    "    \n",
    "    tr_z = zi[(zi!=nodata_outside) & (zi!=nodata_inside)].flat[:]\n",
    "    \n",
    "    pr_x = ci[(z_mask==m_study) & (zi==nodata_inside)].flat[:]\n",
    "    pr_y = ri[(z_mask==m_study) &(zi==nodata_inside)].flat[:]\n",
    "    \n",
    "    tst1 = np.unique(tr_z,return_counts=True)\n",
    "    modetest = tst1[0][np.argmax(tst1[1])]\n",
    "    pr_z = modetest\n",
    "    zi[pr_y, pr_x]=pr_z\n",
    "    return zi\n",
    "\n",
    "\n",
    "def zscore():\n",
    "    z_mean = np.mean(z_cln[z_mask==m_study])\n",
    "    z_std = np.std(z_cln[z_mask==m_study])\n",
    "    z_scr = (z_cln-z_mean)/z_std\n",
    "    return z_scr\n",
    "def znormal():\n",
    "    z_min = np.min(z_cln[z_mask==m_study])\n",
    "    z_max = np.max(z_cln[z_mask==m_study])\n",
    "    z_nr = (z_cln-z_min)/(z_max-z_min)\n",
    "    return z_nr"
   ]
  },
  {
   "cell_type": "markdown",
   "metadata": {},
   "source": [
    "# This part of the code will load the mask image"
   ]
  },
  {
   "cell_type": "code",
   "execution_count": 3,
   "metadata": {
    "scrolled": true
   },
   "outputs": [
    {
     "data": {
      "image/png": "[encoded data removed]",
      "text/plain": [
       "<Figure size 432x288 with 1 Axes>"
      ]
     },
     "metadata": {
      "needs_background": "light"
     },
     "output_type": "display_data"
    },
    {
     "data": {
      "text/plain": [
       "<matplotlib.axes._subplots.AxesSubplot at 0x117dd379e8>"
      ]
     },
     "execution_count": 3,
     "metadata": {},
     "output_type": "execute_result"
    }
   ],
   "source": [
    "binpath =r'New folder' # Directory of source images\n",
    "fn_mask = os.path.join(binpath, '0.tif') # Reading the mask image\n",
    "mask_image = rasterio.open(fn_mask)\n",
    "show(mask_image)"
   ]
  },
  {
   "cell_type": "markdown",
   "metadata": {},
   "source": [
    "# Please specify here the mask layer background value and study area value"
   ]
  },
  {
   "cell_type": "code",
   "execution_count": 4,
   "metadata": {},
   "outputs": [],
   "source": [
    "m_back = -9999 # mask layer background value\n",
    "m_study = 9999 # mask layer study area value"
   ]
  },
  {
   "cell_type": "markdown",
   "metadata": {},
   "source": [
    "# Please specify here the nodata of every source images\n",
    "if you have more than 14 images, create more variables here."
   ]
  },
  {
   "cell_type": "code",
   "execution_count": 5,
   "metadata": {},
   "outputs": [],
   "source": [
    "ndt_sr = {'image_1':-3.402823e+38,\n",
    "          'image_2':-3.402823e+38,\n",
    "          'image_3':-3.402823e+38,\n",
    "          'image_4':-3.402823e+38,\n",
    "          'image_5':-3.402823e+38,\n",
    "          'image_6':-3.402823e+38,\n",
    "          'image_7':-3.402823e+38,\n",
    "          'image_8':-3.402823e+38,\n",
    "          'image_9':-3.402823e+38,\n",
    "          'image_10':-3.402823e+38,\n",
    "          'image_11':-3.402823e+38,\n",
    "          'image_12':255,\n",
    "          'image_13':15,\n",
    "          'image_14':-3.402823e+38,\n",
    "         }"
   ]
  },
  {
   "cell_type": "markdown",
   "metadata": {},
   "source": [
    "# Please specify here the nodata imputation method name  inside the study area\n",
    "If you have more than 14 images, add more variables.\n",
    "Available methos are\n",
    "\n",
    "    knninter for KNN interpolation\n",
    "    meaninter for mean value \n",
    "    medianinter for median value\n",
    "    modeinter for mode value\n",
    "Keep in mind that these interpolations will be active if there are any nodata inside the study area."
   ]
  },
  {
   "cell_type": "code",
   "execution_count": 6,
   "metadata": {},
   "outputs": [],
   "source": [
    "inter_methods = {'image_1':knninter,\n",
    "                'image_2':meaninter,\n",
    "                'image_3':meaninter,\n",
    "                'image_4':meaninter,\n",
    "                'image_5':meaninter,\n",
    "                'image_6':meaninter,\n",
    "                'image_7':medianinter,\n",
    "                'image_8':medianinter,\n",
    "                'image_9':medianinter,\n",
    "                'image_10':medianinter,\n",
    "                'image_11':modeinter,\n",
    "                'image_12':modeinter,\n",
    "                'image_13':modeinter,\n",
    "                'image_14':meaninter}"
   ]
  },
  {
   "cell_type": "code",
   "execution_count": null,
   "metadata": {},
   "outputs": [],
   "source": []
  },
  {
   "cell_type": "markdown",
   "metadata": {},
   "source": [
    "# Please specify here the standardiztion and normaliztion method name for every image\n",
    "If you have more than 14 images, add more variables. Available methods are\n",
    "1. zscore\n",
    "2. znormal"
   ]
  },
  {
   "cell_type": "code",
   "execution_count": 7,
   "metadata": {},
   "outputs": [],
   "source": [
    "stn_methods = {'image_1':zscore,\n",
    "                'image_2':zscore,\n",
    "                'image_3':zscore,\n",
    "                'image_4':znormal,\n",
    "                'image_5':znormal,\n",
    "                'image_6':znormal,\n",
    "                'image_7':znormal,\n",
    "                'image_8':znormal,\n",
    "                'image_9':zscore,\n",
    "                'image_10':zscore,\n",
    "                'image_11':zscore,\n",
    "                'image_12':znormal,\n",
    "                'image_13':znormal,\n",
    "                'image_14':znormal}"
   ]
  },
  {
   "cell_type": "markdown",
   "metadata": {},
   "source": [
    "# Before adding image values please the save the image with corresponding name to the same folder as other images \n",
    "### like: \n",
    "image_(image number)"
   ]
  },
  {
   "cell_type": "code",
   "execution_count": 8,
   "metadata": {},
   "outputs": [
    {
     "name": "stdout",
     "output_type": "stream",
     "text": [
      "{'image_1': <function zscore at 0x00000011038CFB70>, 'image_2': <function zscore at 0x00000011038CFB70>, 'image_3': <function zscore at 0x00000011038CFB70>, 'image_4': <function znormal at 0x00000011038CFBF8>, 'image_5': <function znormal at 0x00000011038CFBF8>, 'image_6': <function znormal at 0x00000011038CFBF8>, 'image_7': <function znormal at 0x00000011038CFBF8>, 'image_8': <function znormal at 0x00000011038CFBF8>, 'image_9': <function zscore at 0x00000011038CFB70>, 'image_10': <function zscore at 0x00000011038CFB70>, 'image_11': <function zscore at 0x00000011038CFB70>, 'image_12': <function znormal at 0x00000011038CFBF8>, 'image_13': <function znormal at 0x00000011038CFBF8>, 'image_14': <function znormal at 0x00000011038CFBF8>}\n",
      "Do you want to add image_15 no data value, nodata imputation method, standardiztion and normaliztion method. \n",
      "Enter C or c to Continue  \n",
      "Any key to skip\n"
     ]
    }
   ],
   "source": [
    "\n",
    "\n",
    "count=len(stn_methods)\n",
    "print(stn_methods)\n",
    "ask= str(input('Do you want to add image_'+str(count+1)+' no data value, nodata imputation method, standardiztion and normaliztion method. \\nEnter C or c to Continue  \\nAny key to skip'))\n",
    "while ask==\"C\" or ask==\"c\":\n",
    "    count=count+1\n",
    "    \n",
    "    ndt_sr_val=float(input('enter null value for image_'+str(count)+' : '))\n",
    "    \n",
    "    ndt_sr['image_'+str(count)] = ndt_sr_val\n",
    "    \n",
    "    inter_methods_val=int(input('enter null value for image_'+str(count)+'\\n press\\n 1 : KNN interpolation \\n 2 : mean value \\n 3 : median value \\n 4 : mode value'))\n",
    "    \n",
    "    if(inter_methods_val==1):\n",
    "        inter_methods['image_'+str(count)] = knninter\n",
    "    if(inter_methods_val==2):\n",
    "        inter_methods['image_'+str(count)] = meaninter\n",
    "    if(inter_methods_val==3):\n",
    "        inter_methods['image_'+str(count)] = medianinter\n",
    "    if(inter_methods_val==4):\n",
    "        inter_methods['image_'+str(count)] = modeinter\n",
    "\n",
    "        \n",
    "    stn_methods_val=int(input('enter null value for image_'+str(count)+'\\n press\\n 1 : zscore \\n 2 : znormal \\n'))\n",
    "    \n",
    "    if(stn_methods_val==1):\n",
    "        stn_methods['image_'+str(count)] = zscore\n",
    "    if(stn_methods_val==2):\n",
    "        stn_methods['image_'+str(count)] = znormal\n",
    "    \n",
    "\n",
    "    \n",
    "\n",
    "    ask= str(input('Do you want to add image_'+str(count+1)+' no data value, nodata imputation method, standardiztion and normaliztion method. \\nEnter C or c to Continue  \\nAny key to skip'))\n",
    "    \n",
    "    if ask!=\"C\" or ask!=\"c\":\n",
    "        break\n",
    "    \n",
    "# stn_methods"
   ]
  },
  {
   "cell_type": "markdown",
   "metadata": {},
   "source": [
    "# This part of the code will remove nodata from all (14) the image and interpolate and replace the nodata inside the study area"
   ]
  },
  {
   "cell_type": "code",
   "execution_count": 9,
   "metadata": {},
   "outputs": [
    {
     "name": "stdout",
     "output_type": "stream",
     "text": [
      "No interpolation is conducted inside the study area of image-1\n",
      "No interpolation is conducted inside the study area of image-2\n",
      "No interpolation is conducted inside the study area of image-3\n",
      "No interpolation is conducted inside the study area of image-4\n",
      "No interpolation is conducted inside the study area of image-5\n",
      "No interpolation is conducted inside the study area of image-6\n",
      "No interpolation is conducted inside the study area of image-7\n",
      "No interpolation is conducted inside the study area of image-8\n",
      "No interpolation is conducted inside the study area of image-9\n",
      "No interpolation is conducted inside the study area of image-10\n",
      "No interpolation is conducted inside the study area of image-11\n",
      "No interpolation is conducted inside the study area of image-12\n",
      "No interpolation is conducted inside the study area of image-13\n",
      "No interpolation is conducted inside the study area of image-14\n"
     ]
    }
   ],
   "source": [
    "z_mask = mask_image.read(1) # saving z value from mask image\n",
    "\n",
    "# Directory for saving cleaned images\n",
    "bin_new = r'cleaned_image' \n",
    "\n",
    "\n",
    "for i in range(1,len(stn_methods)+1): #The loop is going through each tif image (1-14) from the directory.\n",
    "    fn_1 = os.path.join(binpath, '{}.tif'.format(i))\n",
    "    image1 = rasterio.open(fn_1)\n",
    "\n",
    "\n",
    "\n",
    "    zi = image1.read(1) # Reading z value from image\n",
    "    nodata_outside = -9999 # Setting the nodata value outside (replacing the nodata outside) \n",
    "                            # You can set the value, as you want.\n",
    "    zi[z_mask==m_back] = nodata_outside\n",
    "    \n",
    "    #val = np.unique(zi[z_mask==m_study])\n",
    "    #idx = np.argmin(np.abs(val-ndt))\n",
    "    #val_ndt = val[idx]\n",
    "    #print(float(val_ndt))\n",
    "    \n",
    "    ndt =ndt_sr['image_{}'.format(i)] #\n",
    "    crt_int = np.size(zi[(z_mask==m_study) &(zi==ndt)])\n",
    "    #print (i, crt_int, ndt)\n",
    "    if crt_int!=0:\n",
    "        print ('NoData found inside the study area of image-{}. Interpolation started-'.format(i), inter_methods['image_{}'.format(i)].__name__[:-5])\n",
    "        nodata_inside =-9999 #Setting the nodata value inside (replacing the nodata inside) \n",
    "        zi[(z_mask==m_study) & (zi==ndt)] = nodata_inside\n",
    "        \n",
    "        zi = inter_methods['image_{}'.format(i)]()\n",
    "        print ('Image-{}'.format(i),'Interplation done')\n",
    "    else:\n",
    "        print ('No interpolation is conducted inside the study area of image-{}'.format(i))\n",
    "    try:\n",
    "        os.remove(os.path.join(bin_new, '{}_new.tif'.format(i)))\n",
    "    except:\n",
    "        pass\n",
    "    new_dataset = rasterio.open(\n",
    "        os.path.join(bin_new, '{}_new.tif'.format(i)),\n",
    "        'w',\n",
    "        driver='GTiff',\n",
    "        height=zi.shape[0],\n",
    "        width=zi.shape[1],\n",
    "        count=1,\n",
    "        dtype=zi.dtype,\n",
    "        crs=image1.crs,\n",
    "        transform=image1.transform,\n",
    "        compress='lzw',\n",
    "        nodata=None)\n",
    "    new_dataset.write(zi, 1)\n",
    "    new_dataset.close()"
   ]
  },
  {
   "cell_type": "markdown",
   "metadata": {},
   "source": [
    "# This part of the code will standardize or normalise the cleaned images."
   ]
  },
  {
   "cell_type": "code",
   "execution_count": 10,
   "metadata": {},
   "outputs": [
    {
     "name": "stderr",
     "output_type": "stream",
     "text": [
      "C:\\ProgramData\\Anaconda3\\lib\\site-packages\\ipykernel_launcher.py:82: RuntimeWarning: divide by zero encountered in true_divide\n",
      "C:\\ProgramData\\Anaconda3\\lib\\site-packages\\ipykernel_launcher.py:82: RuntimeWarning: invalid value encountered in true_divide\n",
      "C:\\ProgramData\\Anaconda3\\lib\\site-packages\\ipykernel_launcher.py:87: RuntimeWarning: divide by zero encountered in true_divide\n",
      "C:\\ProgramData\\Anaconda3\\lib\\site-packages\\ipykernel_launcher.py:87: RuntimeWarning: invalid value encountered in true_divide\n"
     ]
    }
   ],
   "source": [
    "z_mask = mask_image.read(1) # saving z value from mask image\n",
    "\n",
    "# Directory for saving standardize or normalize images.\n",
    "bin_stn = r'Modified_image' \n",
    "\n",
    "\n",
    "for i in range(1,len(stn_methods)+1): #The loop is going through each tif image (1-14) from the directory.\n",
    "    fn_cln = os.path.join(bin_new, '{}_new.tif'.format(i))\n",
    "    image_cln = rasterio.open(fn_cln)\n",
    "\n",
    "    z_cln = image_cln.read(1) # Reading z value from cleaned image\n",
    "\n",
    "\n",
    "    z_clt = stn_methods['image_{}'.format(i)]()\n",
    "    z_clt[z_mask==m_back] = -9999\n",
    "   \n",
    "    try:\n",
    "        os.remove(os.path.join(bin_stn, '{}_mfd.tif'.format(i)))\n",
    "    except:\n",
    "        pass\n",
    "    new_dataset = rasterio.open(\n",
    "        os.path.join(bin_stn, '{}_mfd.tif'.format(i)),\n",
    "        'w',\n",
    "        driver='GTiff',\n",
    "        height=z_cln.shape[0],\n",
    "        width=z_cln.shape[1],\n",
    "        count=1,\n",
    "        dtype=z_clt.dtype,\n",
    "        crs=image_cln.crs,\n",
    "        transform=image_cln.transform,\n",
    "        compress='lzw',\n",
    "        nodata=-9999)\n",
    "    new_dataset.write(z_clt, 1)\n",
    "    new_dataset.close()"
   ]
  },
  {
   "cell_type": "markdown",
   "metadata": {},
   "source": [
    "# This part of the code will convert image with categorical variable to dummy variables \n",
    "This action can't be put in a loop. Because every single image can have different action. So I am writing the code for a single image. You can apply it for other image as well."
   ]
  },
  {
   "cell_type": "code",
   "execution_count": 11,
   "metadata": {},
   "outputs": [
    {
     "name": "stdout",
     "output_type": "stream",
     "text": [
      "[9999]\n"
     ]
    }
   ],
   "source": [
    "# Serial number of the cleaned categorical image \n",
    "sl = 12 # input ranges from 1 to 14\n",
    "\n",
    "bin_dm = r'dm_image'\n",
    "\n",
    "fn_new = os.path.join(bin_new, '{}_new.tif'.format(sl))\n",
    "new_im = rasterio.open(fn_new)\n",
    "z_newval = new_im.read(1)\n",
    "un_vals = np.unique(z_newval[z_mask==m_study])\n",
    "print (un_vals)"
   ]
  },
  {
   "cell_type": "markdown",
   "metadata": {},
   "source": [
    "Now specify a dummpy array corresponding the actual value above. For example I have made a dummy array below."
   ]
  },
  {
   "cell_type": "code",
   "execution_count": 12,
   "metadata": {},
   "outputs": [],
   "source": [
    "dm_arr = np.array([9, 3, 10, 12, 17, 20, 70, 150]) # Dummy array\n",
    "\n",
    "for k in range(len(un_vals)):\n",
    "    z_newval[z_newval==un_vals[k]] = dm_arr[k]\n",
    "\n",
    "    \n",
    "    \n",
    "try:\n",
    "    os.remove(os.path.join(bin_dm, '{}_dm.tif'.format(sl)))\n",
    "except:\n",
    "    pass\n",
    "new_dataset = rasterio.open(\n",
    "    os.path.join(bin_dm, '{}_dm.tif'.format(sl)),\n",
    "    'w',\n",
    "    driver='GTiff',\n",
    "    height=z_newval.shape[0],\n",
    "    width=z_newval.shape[1],\n",
    "    count=1,\n",
    "    dtype=z_newval.dtype,\n",
    "    crs=new_im.crs,\n",
    "    transform=new_im.transform,\n",
    "    compress='lzw',\n",
    "    nodata=None)\n",
    "new_dataset.write(z_newval, 1)\n",
    "new_dataset.close()\n",
    "\n",
    "\n",
    "for ht in range(len(dm_arr)):\n",
    "    z_ht = np.zeros((np.shape(z_newval)), dtype=np.int8)\n",
    "    z_ht[z_newval==dm_arr[ht]]=1\n",
    "    \n",
    "    \n",
    "    try:\n",
    "        os.remove(os.path.join(bin_dm, 'hot_encoding_class_{}.tif'.format(dm_arr[ht])))\n",
    "    except:\n",
    "        pass\n",
    "    new_dataset1 = rasterio.open(\n",
    "        os.path.join(bin_dm, 'hot_encoding_class_{}.tif'.format(dm_arr[ht])),\n",
    "        'w',\n",
    "        driver='GTiff',\n",
    "        height=z_ht.shape[0],\n",
    "        width=z_ht.shape[1],\n",
    "        count=1,\n",
    "        dtype=z_ht.dtype,\n",
    "        crs=new_im.crs,\n",
    "        transform=new_im.transform,\n",
    "        compress='lzw',\n",
    "        nodata=None)\n",
    "    new_dataset1.write(z_ht, 1)\n",
    "    new_dataset1.close()"
   ]
  },
  {
   "cell_type": "markdown",
   "metadata": {},
   "source": [
    "# This part of the code will convert cleaned image to csv file"
   ]
  },
  {
   "cell_type": "code",
   "execution_count": null,
   "metadata": {},
   "outputs": [
    {
     "name": "stdout",
     "output_type": "stream",
     "text": [
      "(47212591, 1)\n",
      "(7481, 6311)\n"
     ]
    },
    {
     "name": "stderr",
     "output_type": "stream",
     "text": [
      "C:\\ProgramData\\Anaconda3\\lib\\site-packages\\ipykernel_launcher.py:30: DeprecationWarning: Non-string object detected for the array ordering. Please pass in 'C', 'F', 'A', or 'K' instead\n",
      "C:\\ProgramData\\Anaconda3\\lib\\site-packages\\ipykernel_launcher.py:31: DeprecationWarning: Non-string object detected for the array ordering. Please pass in 'C', 'F', 'A', or 'K' instead\n"
     ]
    },
    {
     "name": "stdout",
     "output_type": "stream",
     "text": [
      "(47212591,)\n",
      "(47212591, 1)\n",
      "(7481, 6311)\n",
      "(47212591,)\n",
      "(47212591, 1)\n",
      "(7481, 6311)\n",
      "(47212591,)\n",
      "(47212591, 1)\n",
      "(7481, 6311)\n",
      "(47212591,)\n",
      "(47212591, 1)\n",
      "(7481, 6311)\n",
      "(47212591,)\n"
     ]
    }
   ],
   "source": [
    "import rasterio\n",
    "import numpy as np\n",
    "import csv\n",
    "strt = time.time()\n",
    "tt_im = len(stn_methods) # total number of images\n",
    "count=1\n",
    "\n",
    "\n",
    "for km in range (1,tt_im+1):\n",
    "    filename = 'cleaned_image\\\\'+str(count)+'_new.tif'\n",
    "\n",
    "    with rasterio.open(filename) as src:\n",
    "        #read image\n",
    "        image= src.read()\n",
    "        # transform image\n",
    "        bands,rows,cols = np.shape(image)\n",
    "        image1 = image.reshape (rows*cols,bands)\n",
    "        print(np.shape(image1))\n",
    "        # bounding box of image\n",
    "        l,b,r,t = src.bounds\n",
    "        #resolution of image\n",
    "        res = src.res\n",
    "        res = src.res\n",
    "        # meshgrid of X and Y\n",
    "        x = np.arange(l,r, res[0])\n",
    "        y = np.arange(t,b, -res[0])\n",
    "        X,Y = np.meshgrid(x,y)\n",
    "        print (np.shape(X))\n",
    "        # flatten X and Y\n",
    "        newX = np.array(X.flatten(1))\n",
    "        newY = np.array(Y.flatten(1))\n",
    "        print (np.shape(newX))\n",
    "        # join XY and Z information\n",
    "        export = np.column_stack((newX, newY, image1))\n",
    "        fname='image_csv\\\\'+str(count)+'_XYZ.csv'\n",
    "        count=count+1\n",
    "        with open(fname, 'w') as fp:\n",
    "            a = csv.writer(fp, delimiter=',')\n",
    "            a.writerows(export)\n",
    "            fp.close() # close file"
   ]
  },
  {
   "cell_type": "code",
   "execution_count": null,
   "metadata": {},
   "outputs": [],
   "source": [
    "# strt = time.time()\n",
    "# tt_im = 14 # total number of images\n",
    "\n",
    "# ryi,cxi = np.indices(np.shape(z_mask))\n",
    "\n",
    "# tr_cxi = cxi[z_mask==m_study].flat[:]\n",
    "# tr_ryi = ryi[z_mask==m_study].flat[:]\n",
    "\n",
    "# binpath1 =r'D:\\WaseemBhaiWork\\work\\work_2019_10_2\\Image_Masking\\cleaned_image' # Directory of images you want to convert csv\n",
    "\n",
    "# image_dt = {}\n",
    "\n",
    "# for km in range (1,tt_im+1):\n",
    "\n",
    "#     fn_1new = os.path.join(binpath1, '{}_new.tif'.format(km))\n",
    "#     new_im = rasterio.open(fn_1new)\n",
    "#     image_dt['z{}'.format(km)] = new_im.read(1)\n",
    "\n",
    "    \n",
    "\n",
    "# binpath2 = r'D:\\WaseemBhaiWork\\work\\work_2019_10_2\\Image_Masking\\image_csv' #directory of csv file\n",
    "\n",
    "# try:\n",
    "#     os.remove(os.path.join(binpath2, 'image_all_dt.csv'))\n",
    "# except:\n",
    "#     pass\n",
    "\n",
    "# image_data_all = {'x':[], 'y':[]}\n",
    "\n",
    "# for kc in range(1, tt_im+1):\n",
    "#     image_data_all['z{}'.format(kc)] = []\n",
    "\n",
    "# for kn in range(len(tr_cxi)):\n",
    "#     image_data_all['x'].append(mask_image.xy(tr_ryi[kn],tr_cxi[kn])[0])\n",
    "#     image_data_all['y'].append(mask_image.xy(tr_ryi[kn],tr_cxi[kn])[1])\n",
    "#     for kp in range(1, tt_im+1): \n",
    "#         image_data_all['z{}'.format(kp)].append(image_dt['z{}'.format(kp)][tr_ryi[kn],tr_cxi[kn]])\n",
    "# #f.close()\n",
    "# image_pd1 = pd.DataFrame(data=image_data_all)\n",
    "\n",
    "# image_pd1.to_csv(os.path.join(binpath2, 'image_all_dt.csv'), index=False)\n",
    "# rtime = (time.time()-strt)/60\n",
    "# print ('Time= {} Minutes and {} Seconds'.format(int(rtime), np.round(((rtime-int(rtime))*60),2)))"
   ]
  },
  {
   "cell_type": "markdown",
   "metadata": {},
   "source": [
    "# This part of the code will stack the cleaned images and plot all togather"
   ]
  },
  {
   "cell_type": "code",
   "execution_count": null,
   "metadata": {},
   "outputs": [],
   "source": [
    "binpath3 = r'cleaned_image'\n",
    "tt_im = len(stn_methods) # total number of images\n",
    "plt.figure(figsize=(20, 20))\n",
    "for plg in range(1, tt_im+1):\n",
    "    fn_fg = os.path.join(binpath3, '{}_new.tif'.format(plg))\n",
    "    new_fg = rasterio.open(fn_fg)\n",
    "    z_fg = new_fg.read(1)\n",
    "    plt.subplot(4,4,plg)\n",
    "    plt.imshow(z_fg, cmap='nipy_spectral')\n",
    "    plt.title('Image-{}'.format(plg))\n",
    "    plt.savefig(r'Image_stack\\image_stack_{}.png'.format(plg), dpi=300)"
   ]
  },
  {
   "cell_type": "code",
   "execution_count": null,
   "metadata": {},
   "outputs": [],
   "source": [
    "# del df['col1']"
   ]
  },
  {
   "cell_type": "markdown",
   "metadata": {},
   "source": [
    "### this part will create multiple csv files from  single csv"
   ]
  },
  {
   "cell_type": "code",
   "execution_count": null,
   "metadata": {},
   "outputs": [],
   "source": [
    "count_image=1\n",
    "for img in range(1, tt_im+1):\n",
    "    column = ['x','y','z']\n",
    "    tif_df = pd.read_csv('image_csv\\\\'str(count_image)+'_XYZ.csv',header = None, names = column)\n",
    "\n",
    "    x,y=tif_df.shape\n",
    "\n",
    "    #Number of rows in dataframe\n",
    "    print(x)\n",
    "\n",
    "    no_of_csv=int(input(\"enter number of files in which you want to convert single csv\"))\n",
    "    size = x//no_of_csv\n",
    "    print(\"number of rows in each sub csv \"+str(size))\n",
    "\n",
    "    count_1=0\n",
    "    count_2=size\n",
    "    dfs = []\n",
    "\n",
    "    i=1\n",
    "    while i!=no_of_csv:\n",
    "        df=train_time_series.iloc[count_1:count_2]\n",
    "        df.to_csv('sub_csv\\\\image_'+str(count_image)+'subfile '+ str(i)+'.csv')\n",
    "\n",
    "        dfs.append(df)\n",
    "        count_1=count_1+size\n",
    "        count_2=count_2+size\n",
    "        i=i+1\n",
    "\n",
    "    df=train_time_series.iloc[count_1:]\n",
    "    df.to_csv('sub_csv\\\\image_'+str(count_image)+'subfile '+ str(no_of_csv)+'.csv')\n",
    "    count=count+1\n",
    "\n"
   ]
  },
  {
   "cell_type": "code",
   "execution_count": null,
   "metadata": {},
   "outputs": [],
   "source": []
  }
 ],
 "metadata": {
  "kernelspec": {
   "display_name": "Python 3",
   "language": "python",
   "name": "python3"
  },
  "language_info": {
   "codemirror_mode": {
    "name": "ipython",
    "version": 3
   },
   "file_extension": ".py",
   "mimetype": "text/x-python",
   "name": "python",
   "nbconvert_exporter": "python",
   "pygments_lexer": "ipython3",
   "version": "3.6.9"
  }
 },
 "nbformat": 4,
 "nbformat_minor": 2
}
