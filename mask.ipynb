{
 "cells": [
  {
   "cell_type": "code",
   "execution_count": 1,
   "metadata": {},
   "outputs": [],
   "source": [
    "#import matplotlib.image as mpimg\n",
    "import os\n",
    "import time\n",
    "import rasterio\n",
    "from rasterio.plot import show\n",
    "from matplotlib import pyplot as plt\n",
    "from rasterio import plot\n",
    "import numpy as np\n",
    "import pandas as pd\n",
    "from rasterio.mask import mask"
   ]
  },
  {
   "cell_type": "code",
   "execution_count": 2,
   "metadata": {
    "scrolled": true
   },
   "outputs": [
    {
     "data": {
      "image/png": "[encoded data removed]",
      "text/plain": [
       "<Figure size 432x288 with 1 Axes>"
      ]
     },
     "metadata": {
      "needs_background": "light"
     },
     "output_type": "display_data"
    },
    {
     "data": {
      "text/plain": [
       "<matplotlib.axes._subplots.AxesSubplot at 0xf8bd13cf28>"
      ]
     },
     "execution_count": 2,
     "metadata": {},
     "output_type": "execute_result"
    }
   ],
   "source": [
    "\n",
    "binpath =r'D:\\WaseemBhaiWork\\work\\work_2019_10_2\\Image_Masking' # Directory of source images\n",
    "fn_mask = os.path.join(binpath, '0.tif') # Reading the mask image\n",
    "mask_image = rasterio.open(fn_mask)\n",
    "show(mask_image)"
   ]
  },
  {
   "cell_type": "code",
   "execution_count": 3,
   "metadata": {},
   "outputs": [],
   "source": [
    "z_mask = mask_image.read(1) # saving z value from mask image\n"
   ]
  },
  {
   "cell_type": "code",
   "execution_count": 4,
   "metadata": {},
   "outputs": [],
   "source": [
    "# Directory for saving cleaned images\n",
    "bin_new = r'D:\\WaseemBhaiWork\\work\\work_2019_10_2\\Image_Masking' "
   ]
  },
  {
   "cell_type": "code",
   "execution_count": 5,
   "metadata": {},
   "outputs": [],
   "source": [
    "i=0\n",
    "fn_1 = os.path.join(binpath, '{}.tif'.format(i))\n",
    "image1 = rasterio.open(fn_1)"
   ]
  },
  {
   "cell_type": "code",
   "execution_count": 6,
   "metadata": {},
   "outputs": [],
   "source": [
    "z1 = image1.read(1) # Reading z value from image\n",
    "no_data = -9999 # Setting the nodata value. You can set the value, as you want.\n",
    "z1[z_mask==-9999] = no_data"
   ]
  },
  {
   "cell_type": "code",
   "execution_count": 7,
   "metadata": {},
   "outputs": [],
   "source": [
    "try:\n",
    "    os.remove(os.path.join(bin_new, '{}_new.tif'.format(i)))\n",
    "except:\n",
    "    pass"
   ]
  },
  {
   "cell_type": "code",
   "execution_count": 8,
   "metadata": {},
   "outputs": [],
   "source": [
    "new_dataset = rasterio.open(\n",
    "    os.path.join(bin_new, '{}_new.tif'.format(i)),\n",
    "    'w',\n",
    "    driver='GTiff',\n",
    "    height=z1.shape[0],\n",
    "    width=z1.shape[1],\n",
    "    count=1,\n",
    "    dtype=z1.dtype,\n",
    "    crs=image1.crs,\n",
    "    transform=image1.transform,\n",
    "    compress='lzw',\n",
    "    nodata=None)\n",
    "new_dataset.write(z1, 1)\n",
    "new_dataset.close()"
   ]
  },
  {
   "cell_type": "code",
   "execution_count": 9,
   "metadata": {},
   "outputs": [],
   "source": [
    "z_mask = mask_image.read(1) # saving z value from mask image\n",
    "\n",
    "# Directory for saving cleaned images\n",
    "bin_new = r'D:\\WaseemBhaiWork\\work\\work_2019_10_2\\Image_Masking' \n",
    "\n",
    "\n",
    "for i in range(0,1): #The loop is going through each tif image (1-14) from the directory.\n",
    "    fn_1 = os.path.join(binpath, '{}.tif'.format(i))\n",
    "    image1 = rasterio.open(fn_1)\n",
    "\n",
    "\n",
    "\n",
    "    z1 = image1.read(1) # Reading z value from image\n",
    "    no_data = -9999 # Setting the nodata value. You can set the value, as you want.\n",
    "    z1[z_mask==-9999] = no_data \n",
    "   \n",
    "    try:\n",
    "        os.remove(os.path.join(bin_new, '{}_new.tif'.format(i)))\n",
    "    except:\n",
    "        pass\n",
    "    new_dataset = rasterio.open(\n",
    "        os.path.join(bin_new, '{}_new.tif'.format(i)),\n",
    "        'w',\n",
    "        driver='GTiff',\n",
    "        height=z1.shape[0],\n",
    "        width=z1.shape[1],\n",
    "        count=1,\n",
    "        dtype=z1.dtype,\n",
    "        crs=image1.crs,\n",
    "        transform=image1.transform,\n",
    "        compress='lzw',\n",
    "        nodata=None)\n",
    "    new_dataset.write(z1, 1)\n",
    "    new_dataset.close()"
   ]
  },
  {
   "cell_type": "code",
   "execution_count": 1,
   "metadata": {},
   "outputs": [
    {
     "ename": "NameError",
     "evalue": "name 'mask_image' is not defined",
     "output_type": "error",
     "traceback": [
      "\u001b[1;31m---------------------------------------------------------------------------\u001b[0m",
      "\u001b[1;31mNameError\u001b[0m                                 Traceback (most recent call last)",
      "\u001b[1;32m<ipython-input-1-aec963a59f2b>\u001b[0m in \u001b[0;36m<module>\u001b[1;34m\u001b[0m\n\u001b[1;32m----> 1\u001b[1;33m \u001b[0mz_mask\u001b[0m \u001b[1;33m=\u001b[0m \u001b[0mmask_image\u001b[0m\u001b[1;33m.\u001b[0m\u001b[0mread\u001b[0m\u001b[1;33m(\u001b[0m\u001b[1;36m1\u001b[0m\u001b[1;33m)\u001b[0m \u001b[1;31m# saving z value from mask image\u001b[0m\u001b[1;33m\u001b[0m\u001b[1;33m\u001b[0m\u001b[0m\n\u001b[0m\u001b[0;32m      2\u001b[0m \u001b[0mz_mask\u001b[0m\u001b[1;33m\u001b[0m\u001b[1;33m\u001b[0m\u001b[0m\n",
      "\u001b[1;31mNameError\u001b[0m: name 'mask_image' is not defined"
     ]
    }
   ],
   "source": [
    "z_mask = mask_image.read(1) # saving z value from mask image\n",
    "z_mask"
   ]
  },
  {
   "cell_type": "code",
   "execution_count": null,
   "metadata": {},
   "outputs": [],
   "source": []
  }
 ],
 "metadata": {
  "kernelspec": {
   "display_name": "Python 3",
   "language": "python",
   "name": "python3"
  },
  "language_info": {
   "codemirror_mode": {
    "name": "ipython",
    "version": 3
   },
   "file_extension": ".py",
   "mimetype": "text/x-python",
   "name": "python",
   "nbconvert_exporter": "python",
   "pygments_lexer": "ipython3",
   "version": "3.7.3"
  }
 },
 "nbformat": 4,
 "nbformat_minor": 2
}
